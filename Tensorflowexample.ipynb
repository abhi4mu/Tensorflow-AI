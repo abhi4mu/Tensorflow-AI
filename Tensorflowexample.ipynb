{
  "nbformat": 4,
  "nbformat_minor": 0,
  "metadata": {
    "colab": {
      "name": "Untitled0.ipynb",
      "provenance": [],
      "authorship_tag": "ABX9TyNPl2nA4ov3iVnYig0+Gako",
      "include_colab_link": true
    },
    "kernelspec": {
      "name": "python3",
      "display_name": "Python 3"
    }
  },
  "cells": [
    {
      "cell_type": "markdown",
      "metadata": {
        "id": "view-in-github",
        "colab_type": "text"
      },
      "source": [
        "<a href=\"https://colab.research.google.com/github/iotlab1/Tensorflow-AI/blob/master/Tensorflowexample.ipynb\" target=\"_parent\"><img src=\"https://colab.research.google.com/assets/colab-badge.svg\" alt=\"Open In Colab\"/></a>"
      ]
    },
    {
      "cell_type": "code",
      "metadata": {
        "id": "aa2lywJyk8AU",
        "colab_type": "code",
        "colab": {}
      },
      "source": [
        "import numpy as np\n",
        "import tensorflow as tf"
      ],
      "execution_count": 0,
      "outputs": []
    },
    {
      "cell_type": "code",
      "metadata": {
        "id": "Oq04ppDHk-pl",
        "colab_type": "code",
        "colab": {}
      },
      "source": [
        "X_1 = tf.placeholder(tf.float32, name = \"X_1\")\n",
        "X_2 = tf.placeholder(tf.float32, name = \"X_2\")\n",
        "\n",
        "multiply = tf.multiply(X_1, X_2, name = \"multiply\")\n",
        "\n",
        "X_1 = tf.placeholder(tf.float32, name = \"X_1\")\n",
        "X_2 = tf.placeholder(tf.float32, name = \"X_2\")\n",
        "\n",
        "multiply = tf.multiply(X_1, X_2, name = \"multiply\")\n",
        "\n",
        "with tf.Session() as session:\n",
        "    result = session.run(multiply, feed_dict={X_1:[1,2,3], X_2:[4,5,6]})\n",
        "    print(result)"
      ],
      "execution_count": 0,
      "outputs": []
    },
    {
      "cell_type": "code",
      "metadata": {
        "id": "KN2dh7a5lGqK",
        "colab_type": "code",
        "colab": {}
      },
      "source": [
        "x = tf.placeholder(\"float\", None)\n",
        "y = x * 2\n",
        "\n",
        "with tf.Session() as session:\n",
        "    result = session.run(y, feed_dict={x: [1, 2, 3]})\n",
        "    print(result)"
      ],
      "execution_count": 0,
      "outputs": []
    }
  ]
}